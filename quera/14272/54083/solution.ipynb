{
 "cells": [
  {
   "cell_type": "markdown",
   "metadata": {},
   "source": [
    "<div style=\"direction:rtl;line-height:300%;\">\n",
    "\t<font face=\"XB Zar\" size=5>\n",
    "\t\t<div align=center>\n",
    "\t\t\t<font face=\"IranNastaliq\" size=30>\n",
    "\t\t\t\t<p></p>\n",
    "\t\t\t\t<p></p>\n",
    "به نام خدا\n",
    "\t\t\t\t<p></p>\n",
    "\t\t\t</font>\n",
    "\t\t</div>\n",
    "\t\t<hr/>\n",
    "\t\t<font color=#43a8a5 size=6>\n",
    "\t\t\t<br />\n",
    "\t\t\t<div align=center>\n",
    "توزیع پوآسون، هندسی و فوق‌هندسی            </div>\n",
    "\t\t</font>\n",
    "\t\t<br />\n",
    "\t\t<hr />\n",
    "\t\t<style type=\"text/css\" scoped>\n",
    "        p{\n",
    "        border: 1px solid #a2a9b1;background-color: #f8f9fa;display: inline-block;\n",
    "        };\n",
    "        </style>\n",
    "\t\t<div>\n",
    "\t\t\t<h3>فهرست مطالب</h3>\n",
    "\t\t\t<ul style=\"margin-right: 0;\">\n",
    "\t\t\t\t<li>\n",
    "                    <a href=\"#sec_intro\">\n",
    "                        ماشین‌بازی میلاد و سینا\n",
    "                    </a>\n",
    "                </li>\n",
    "                <li>\n",
    "                    <a href=\"#sec_def\">\n",
    "                     با یک فایل پر از زمان ماشین‌های عبوری چه می‌توان کرد؟\n",
    "                    </a>\n",
    "                </li>\n",
    "                <li>\n",
    "                    <a href=\"#sec_pois\">\n",
    "                       فرایند پوآسون تقریبی و توزیع‌های پوآسون\n",
    "                    </a>\n",
    "                </li>\n",
    "                <li>\n",
    "                    <a href=\"#sec_pois_eg\">\n",
    "                        یک مثال\n",
    "                    </a>\n",
    "                </li>\n",
    "                <li>\n",
    "                    <a href=\"#sec_geo\">\n",
    "                        توزیع‌های هندسی\n",
    "                    </a>\n",
    "                </li>\n",
    "                <li>\n",
    "                    <a href=\"#sec_geo_eg\">\n",
    "                        یک مثال\n",
    "                    </a>\n",
    "                </li>\n",
    "                 <li>\n",
    "                    <a href=\"#sec_hypergeo\">\n",
    "                        آشنایی با توزیع‌های فوق هندسی\n",
    "                    </a>\n",
    "                </li>\n",
    "                <li>\n",
    "                    <a href=\"#sec_refs\">\n",
    "                        منابع\n",
    "                    </a>\n",
    "                </li>\n",
    "                <li>\n",
    "                    <a href=\"#sec_theroy\">\n",
    "                        تمرین نظری\n",
    "                    </a>\n",
    "                </li>\n",
    "                <li>\n",
    "                    <a href=\"#sec_code\">\n",
    "                        تمرین عملی\n",
    "                    </a>\n",
    "                </li>\n",
    "\t\t\t</ul>\n",
    "\t\t</div>\n",
    "\t</font>\n",
    "</div>"
   ]
  },
  {
   "cell_type": "markdown",
   "metadata": {},
   "source": [
    "<p></p>\n",
    "<br />\n",
    "<div id=\"sec_intro\" style=\"direction:rtl;line-height:300%;\">\n",
    "\t<font face=\"XB Zar\" size=5>\n",
    "\t\t<font color=#FF7500 size=6>\n",
    "        توزیع گسسته پوآسون\n",
    "        </font>\n",
    "\t\t<p></p>\n",
    "\t\t<hr>\n",
    "        فرض کنید \n",
    "        n\n",
    "        آزمایش داریم که جواب هر یک مستقل از سایر آزمایش‌ها، موفقیت‌آمیز است یا شکست می‌خورد. احتمال این که یک آزمایش موفقیت‌آمیز باشد،‌\n",
    "        $\\mu$\n",
    "        است. \n",
    "        فرض کنید می‌خواهیم بدست آوریم چقدر احتمال دارد که \n",
    "        k\n",
    "        آزمایش موفق شود و بقیه شکست بخورد. می‌دانیم که این احتمال را به کمک توزیع \n",
    "        binomial\n",
    "        می‌توانیم بدست آوریم. اما فرض کنید که در این جا چند شرط دیگر هم داشته‌باشیم:\n",
    "        <ul>\n",
    "            <li>\n",
    "                n\n",
    "                به سمت بی‌نهایت میل کند.\n",
    "            </li>\n",
    "            <li>\n",
    "                احتمال موفقیت در آزمایش‌ها، به تعداد آزمایش‌ها مربوط باشد. به این صورت که \n",
    "                $\\mu = \\frac{\\lambda}{n}$.\n",
    "                که در این‌جا \n",
    "                $\\lambda$\n",
    "                عددی ثابت است.\n",
    "            </li>\n",
    "            <li>\n",
    "                k\n",
    "                نسبت به n\n",
    "                عددی کم باشد.\n",
    "                یعنی بتوان در مقابل n\n",
    "                از \n",
    "                k\n",
    "                صرف نظر کرد.\n",
    "            </li>\n",
    "        </ul>\n",
    "        حال در این صورت، می‌توانیم تقریبی برای احتمال مورد نظر ارائه کنیم.\n",
    "        <br>\n",
    "        فرض کنید متغیر تصادفی \n",
    "        X\n",
    "        تعداد آزمایش های موفق با شرایط ذکر شده را نشان می‌دهد. می‌خواهیم به ازای هر\n",
    "        k\n",
    "        احتمال این که\n",
    "        $X = k$\n",
    "        باشد را بدست آوریم.\n",
    "        برای این کار به شکل زیر عمل‌می کنیم.\n",
    "        <br>        \n",
    "  \t</font>\n",
    "</div>"
   ]
  },
  {
   "cell_type": "markdown",
   "metadata": {},
   "source": [
    "<div id=\"sec_def\" style=\"direction:rtl;line-height:300%;\">\n",
    "\t<font face=\"XB Zar\" size=5>\n",
    "\t\t<p></p>\n",
    "        <center>\n",
    "        $P(X=k) = P((k) \\text{ success and }(n-k) \\text{ failure}) = \\binom{n}{k} (\\frac{\\lambda}{n})^{k} (1 - \\frac{\\lambda}{n})^{n-k}$\n",
    "        </center>\n",
    "        حال اگر ($n\\rightarrow \\infty$) خواهیم داشت:<br>\n",
    "        <center>\n",
    "        $lim_{n\\to\\infty} \\binom{n}{k} (\\frac{\\lambda}{n})^{k} (1 - \\frac{\\lambda}{n})^{n-k} = lim_{n\\to\\infty} \\frac{n!}{k!(n-k)!} (\\frac{\\lambda^k}{n^k}) (1 - \\frac{\\lambda}{n})^{n}(1 - \\frac{\\lambda}{n})^{-k} = lim_{n\\to\\infty}\\frac{\\lambda^k}{k!} \\frac{n(n-1)(n-2)\\dots(n-k+1)}{n\\cdot n\\cdot n \\dots n} (1 - \\frac{\\lambda}{n})^{n}(1 - \\frac{\\lambda}{n})^{-k}$\n",
    "        </center>\n",
    "        از ریاضیات دبیرستان می‌دانیم $\\lim_{n\\to\\infty} (1-\\frac{\\lambda}{n})^n = e^{-\\lambda}$ از طرفی با توجه به ثابت بودن $k$ خواهیم داشت:<br>\n",
    "        <center>$\\lim_{n\\to\\infty} (1-\\frac{\\lambda}{n})^{-k} = 1^{-k} = 1$</center><br>\n",
    "        <center>$\\lim_{n\\to\\infty} \\frac{n(n-1)(n-2)\\dots(n-k+1)}{n\\cdot n\\cdot n \\dots n} = \\lim_{n\\to\\infty}1(1-\\frac{1}{n})(1-\\frac{2}{n})\\dots(1-\\frac{k-1}{n}) = 1$</center><br>\n",
    "        <center>\n",
    "        $P(X=k) = e^{-\\lambda}\\frac{\\lambda^k}{k!}\\quad k=0,1,2,\\dots$\n",
    "        </center>\n",
    "به این توزیع، توزیع پوآسون گفته می‌شود که همانطور که از رابطه تابع احتمال جرمی آن مشخص است، نیاز به یک پارامتر دارد که آن پارامتر، \n",
    "        $\\lambda$\n",
    "        است.\n",
    "    </font>\n",
    "</div>\n",
    "\n",
    "        "
   ]
  },
  {
   "cell_type": "markdown",
   "metadata": {},
   "source": [
    "<p></p>\n",
    "<br />\n",
    "<div id=\"sec_def\" style=\"direction:rtl;line-height:300%;\">\n",
    "\t<font face=\"XB Zar\" size=5>\n",
    "\t\t<font color=#FF7500 size=6>\n",
    "            امیدریاضی و واریانس توزیع پوآسون\n",
    "        </font>\n",
    "\t\t<p></p>\n",
    "\t\t<hr>\n",
    "        <ul>\n",
    "            <li>\n",
    "                امیدریاضی:\n",
    "                <br>\n",
    "                همانطور که دیدیم، این توزیع از \n",
    "                n\n",
    "                آزمایش مستقل تشکیل شده که هر یک به احتمال\n",
    "                $\\mu$\n",
    "                موفقیت آمیز هستند. پس همانطور که امیدریاضی توزیع\n",
    "                binomial\n",
    "                را حساب کردیم این جا نیز خواهیم داشت:\n",
    "                $$E[X] = n * \\mu = n * \\frac{\\lambda}{n} = \\lambda$$\n",
    "            </li>\n",
    "            <li>\n",
    "                واریانس:\n",
    "                <br>\n",
    "                دوباره همانند بالا از این استفاده می‌کنیم که \n",
    "                n\n",
    "                آزمایش مستقل داریم.\n",
    "                <br>\n",
    "                $$var[X] = n * \\mu * (1 - \\mu) = n * \\frac{\\lambda}{n} * (1 - \\frac{\\lambda}{n})\n",
    "                = \\lambda * (1 - 0) = \\lambda$$\n",
    "                دقت کنید که در محاسبه واریانس این توزیع، از این که \n",
    "                n\n",
    "                به سمت بی‌نهایت میل می‌کند استفاده کردیم. هم چنین می‌دانستیم که\n",
    "                $\\lambda$\n",
    "                یک عدد ثابت است و می‌توانیم \n",
    "                $\\frac{\\lambda}{n}$\n",
    "                را صفر در نظر بگیریم.\n",
    "            </li>\n",
    "        </ul>\n",
    "         نتیجه این که با داشتن پارامتر این توزیع، می‌توانیم به سادگی امیدریاضی، واریانس و تابع جرم احتمال را بیابیم.\n",
    "    </font>\n",
    "</div>"
   ]
  },
  {
   "cell_type": "markdown",
   "metadata": {},
   "source": [
    "<p></p>\n",
    "<br />\n",
    "<div id=\"sec_def\" style=\"direction:rtl;line-height:300%;\">\n",
    "\t<font face=\"XB Zar\" size=5>\n",
    "\t\t<font color=#FF7500 size=6>\n",
    "            بیان دیگر از توزیع پوآسون\n",
    "        </font>\n",
    "\t\t<p></p>\n",
    "\t\t<hr>\n",
    "        تا کنون با توزیع پوآسون آشنا شدیم. حالا وقت آن است که با شکل دیگری که این توزیع کاربرد دارد آشنا شویم. برای این کار، معمولا یک رویداد در زمان بررسی می شود. به داستان زیر توجه کنید.\n",
    "    </font>\n",
    "</div>"
   ]
  },
  {
   "cell_type": "markdown",
   "metadata": {},
   "source": [
    "<p></p>\n",
    "<br />\n",
    "<div id=\"sec_def\" style=\"direction:rtl;line-height:300%;\">\n",
    "\t<font face=\"XB Zar\" size=5>\n",
    "\t\t<font color=#FF7500 size=6>\n",
    "            با یک فایل پر از زمان ماشین‌های عبوری چه می‌توان کرد؟        \n",
    "        </font>\n",
    "\t\t<p></p>\n",
    "\t\t<hr>\n",
    "        فرض کنید میلاد در گوشه ای از شهر، دوربینی کار گذاشته است و از ماشین های رهگذر فیلم می‌گیرد. پس از مدتی میلاد به سراغ دوربینش می‌رود و بر اساس آن یک لیست درست می‌کند که در آن ذکر کرده‌است هر ماشین، در چه زمانی از فیلم از جلوی دوربین گذشته‌است. حال میلاد می‌خواهد به کمک این فایل، معیاری برای شلوغی خیابانی ماشین ها از آن گذشته‌اند ارائه دهد و آن را به رییسش در شرکت بدهد.\n",
    "        <br>\n",
    "او معیار پرترافیک بودن خیابان را \n",
    "        <b> متوسط تعداد ماشین‌های عبوری در یک مدت زمان معین</b> از آن خیابان در نظر می‌گیرد (مثلا یک دقیقه). \n",
    "        <br>\n",
    "         در زیر ترافیک خیابانی که میلاد از آن فیلم گرفته بود را طبق معیار دانشجو حساب میکنیم: (هر سطر در داده‌ها نشان‌دهنده زمان لحظه‌ای عبور یک ماشین است) \n",
    "\t</font>\n",
    "</div>"
   ]
  },
  {
   "cell_type": "code",
   "execution_count": 1,
   "metadata": {},
   "outputs": [
    {
     "data": {
      "text/html": [
       "<div>\n",
       "<style scoped>\n",
       "    .dataframe tbody tr th:only-of-type {\n",
       "        vertical-align: middle;\n",
       "    }\n",
       "\n",
       "    .dataframe tbody tr th {\n",
       "        vertical-align: top;\n",
       "    }\n",
       "\n",
       "    .dataframe thead th {\n",
       "        text-align: right;\n",
       "    }\n",
       "</style>\n",
       "<table border=\"1\" class=\"dataframe\">\n",
       "  <thead>\n",
       "    <tr style=\"text-align: right;\">\n",
       "      <th></th>\n",
       "      <th>minute</th>\n",
       "      <th>second</th>\n",
       "    </tr>\n",
       "  </thead>\n",
       "  <tbody>\n",
       "    <tr>\n",
       "      <th>0</th>\n",
       "      <td>0</td>\n",
       "      <td>0</td>\n",
       "    </tr>\n",
       "    <tr>\n",
       "      <th>1</th>\n",
       "      <td>0</td>\n",
       "      <td>1</td>\n",
       "    </tr>\n",
       "    <tr>\n",
       "      <th>2</th>\n",
       "      <td>0</td>\n",
       "      <td>2</td>\n",
       "    </tr>\n",
       "    <tr>\n",
       "      <th>3</th>\n",
       "      <td>0</td>\n",
       "      <td>3</td>\n",
       "    </tr>\n",
       "    <tr>\n",
       "      <th>4</th>\n",
       "      <td>0</td>\n",
       "      <td>3</td>\n",
       "    </tr>\n",
       "  </tbody>\n",
       "</table>\n",
       "</div>"
      ],
      "text/plain": [
       "   minute   second\n",
       "0       0        0\n",
       "1       0        1\n",
       "2       0        2\n",
       "3       0        3\n",
       "4       0        3"
      ]
     },
     "execution_count": 1,
     "metadata": {},
     "output_type": "execute_result"
    }
   ],
   "source": [
    "#cars <- read.csv('data/car.csv')\n",
    "#head(cars)\n",
    "import pandas as pd\n",
    "cars = pd.read_csv('data/car.csv')\n",
    "cars.head(5)\n"
   ]
  },
  {
   "cell_type": "code",
   "execution_count": 2,
   "metadata": {},
   "outputs": [
    {
     "data": {
      "text/plain": [
       "35.1"
      ]
     },
     "execution_count": 2,
     "metadata": {},
     "output_type": "execute_result"
    }
   ],
   "source": [
    "#traffic <- nrow(cars) / length(unique(cars$minute))\n",
    "#traffic\n",
    "traffic = cars.shape[0] / cars['minute'].value_counts().shape[0]\n",
    "traffic"
   ]
  },
  {
   "cell_type": "markdown",
   "metadata": {},
   "source": [
    "<p></p>\n",
    "<br />\n",
    "<div id=\"sec_def\" style=\"direction:rtl;line-height:300%;\">\n",
    "\t<font face=\"XB Zar\" size=5>\n",
    "\t\t<p></p>\n",
    "        اما میلاد که آدم محتاطی است، تصمیم می‌گیرد این عدد را به مدیرش گزارش نکند و به‌جای استفاده از یک عدد به عنوان ترافیک خیابان از یک مدل احتمالاتی استفاده کند. در واقع سعی می‌کند به جای اتکای خالص بر داده‌ها کمی هم  شهودش را به کار گیرد. پس تلاش می‌کند به تعداد ماشین‌های عبوری در مدت زمان معین از یک خیابان یک احتمال نسبت دهد.<br>\n",
    "         برای این‌کار فرض‌های زیر را روی عبور ماشین‌ها در یک بازه زمانی معین(مثلا یک دقیقه) در نظر می‌گیرد:\n",
    "        <br>\n",
    "        <li>\n",
    "            تعداد ماشین‌های عبوری در بازه‌های زمانی <b>ناهم‌پوش </b>از بازه معین شده، از یکدیگر <b>مستقل</b> باشند. برای مثال دانستن اینکه در یک ثانیه قبل چند ماشین از این خیابان عبور کرده اند دانش ما درباره ثانیه بعد را تحت تاثیر قرار ندهد. (البته این فرض به طور واضح درباره مثال ماشین‌ها اشتباه است. مثلا فرض کنید ماشینها پشت چراغ قرمز بودند و پس از سبز شدن چراغ اولین ماشین را مشاهده می‌کنیم. بنابراین پس از مشاهده پی به سبز شدن چراغ و در نتیجه ورود ماشینهای بیشتر به خیابان خواهیم برد. به هرحال گاهی چنین فرضهایی در نتیجه عملی کارساز است)         </li>\n",
    "        <br>\n",
    "        <li>\n",
    "            احتمال گذر <b>دقیقا یک</b> ماشین در یک بازه زمانی <b> کوتاه </b> به طول $h = \\frac{1}{n}$ دقیقه، به طور تقریبی <b>متناسب با طول بازه</b> باشد. برای سادگی فرض میکنیم ضریب این تناسب یک مقدار ثابت $\\lambda > 0$ است. بنابراین احتمال گذر دقیقا یک ماشین در بازه کوتاه $h$ تقریبا برابر $\\lambda h = \\frac{\\lambda}{n}$ است.\n",
    "            <br>\n",
    "            به نظر شما این فرض منطقی است؟\n",
    "        </li>\n",
    "        <br>\n",
    "        <li>\n",
    "            احتمال عبور <b>دو یا بیش‌تر</b> ماشین در یک بازه زمانی <b>کوتاه</b> (مثلا $h$) <b>صفر</b> باشد. در واقع بتوان بازه‌ها را آنقدر کوچک کرد که در هر بازه تنها حداکثر یک رخداد روی دهد. این فرض درباره حرکت ماشین‌ها تا حدی منطقی است. در واقع این‌که دو یا چند ماشین دقیقا در یک لحظه از جلوی دوربین(به عنوان یک نقطه) عبور کنند نامحتمل است.\n",
    "        </li>\n",
    "        می‌توان همانند قسمت قبل ثابت کرد که اگر متغیر تصادفی\n",
    "        X\n",
    "        تعداد ماشین های عبوری در یک دقیقه را نشان دهد، \n",
    "        X\n",
    "        از توزیع پوآسون پیروی خواهد کرد. برای این کار، یک دقیقه را به \n",
    "        n\n",
    "        قسمت مساوی تقسیم می کنیم و \n",
    "        n\n",
    "        را به سمت بی نهایت میل می‌دهیم تا شرایط بالا برقرار شود. برای تمرین خودتان تابع احتمال جرمی را بدست آورید.\n",
    "\t</font>\n",
    "</div>\n"
   ]
  },
  {
   "cell_type": "markdown",
   "metadata": {},
   "source": [
    "<p></p>\n",
    "<br />\n",
    "<div id=\"sec_def\" style=\"direction:rtl;line-height:300%;\">\n",
    "\t<font face=\"XB Zar\" size=5>\n",
    "        در نتیجه میلاد به این رابطه دست می یابد.\n",
    "        <center>\n",
    "            $P(X=k) = e^{-\\lambda}\\frac{\\lambda^k}{k!}\\quad k=0,1,2,\\dots$\n",
    "            </center>\n",
    "        <br>\n",
    "        حال می‌دانیم در توزیع پوآسون، پارامتر همان میانگین است. چون ما این میانگین را از طریق داده‌ها بدست آورده‌ایم، می‌توانیم که توزیع را بدست آوریم.\n",
    "        <br>\n",
    "        در زیر نمودار توزیع پوآسون به‌ازای $\\lambda$ های مختلف رسم شده‌است. محور افقی نشان‌دهنده مقادیر مختلف متغیر تصادفی $X$ است و محور عمودی احتمال هر کدام از این مقادیر را نشان می‌دهد. هر کدام از رنگ‌ها یک توزیع پوآسون خاص($\\lambda$ خاص) را نمایش می‌دهد. <br>\n",
    "\t</font>\n",
    "</div>"
   ]
  },
  {
   "cell_type": "code",
   "execution_count": 3,
   "metadata": {},
   "outputs": [
    {
     "data": {
      "text/plain": [
       "Text(0, 0.5, 'P(X=k)')"
      ]
     },
     "execution_count": 3,
     "metadata": {},
     "output_type": "execute_result"
    },
    {
     "data": {
      "image/png": "[encoded data removed]",
      "text/plain": [
       "<Figure size 432x288 with 1 Axes>"
      ]
     },
     "metadata": {
      "needs_background": "light"
     },
     "output_type": "display_data"
    }
   ],
   "source": [
    "import matplotlib.pyplot as plt\n",
    "import numpy as np\n",
    "from scipy.stats import poisson\n",
    "color_set = ('steelblue', 'firebrick', 'forestgreen')\n",
    "lambdas = (1, 5, 10)\n",
    "x = np.linspace(1, 20, num=20)\n",
    "poisson.pmf(x, lambdas[0])\n",
    "\n",
    "\n",
    "plt.scatter(x=x, y=poisson.pmf(x, lambdas[0], loc=0), c=color_set[0])\n",
    "plt.scatter(x=x, y=poisson.pmf(x, lambdas[1], loc=0), c=color_set[1])\n",
    "plt.scatter(x=x, y=poisson.pmf(x, lambdas[2], loc=0), c=color_set[2])\n",
    "plt.title('Poisson Distribution')\n",
    "plt.xlabel('K')\n",
    "plt.ylabel('P(X=k)')\n",
    "\n"
   ]
  },
  {
   "cell_type": "code",
   "execution_count": null,
   "metadata": {},
   "outputs": [],
   "source": [
    "#color_set <- c('steelblue', 'firebrick', 'forestgreen')\n",
    "#lambdas <- c(1,5,10)\n",
    "#x <- seq(1, 20)\n",
    "#plot(dpois(x=x, lambda = lambdas[1]), col = color_set[1], xlab = \"k\", ylab = \"P(X=k)\")\n",
    "#points(dpois(x=x, lambda = lambdas[2]), col = color_set[2])\n",
    "#points(dpois(x=x, lambda = lambdas[3]), col = color_set[3])\n",
    "#legend('topright', legend=lambdas, title = \"Lambda\", col = color_set, pch = c(1, 1, 1), lwd = c(NA, NA, NA))"
   ]
  },
  {
   "cell_type": "markdown",
   "metadata": {},
   "source": [
    "<p></p>\n",
    "<br />\n",
    "<div id=\"sec_def\" style=\"direction:rtl;line-height:300%;\">\n",
    "\t<font face=\"XB Zar\" size=5>\n",
    " در مثال ماشین‌های میلاد متوسط تعداد ماشینهای عبوری در یک دقیقه برابر 35.1 محاسبه شد.<br> در زیر توزیع پوآسون با مقدار $\\lambda=35.1$ رسم شده است (نقاط قرمز در نمودار زیر). علاوه بر این با استفاده از داده‌های میلاد، تعداد ماشین‌های عبوری در دقایق مختلف (ده دقیقه) به دست آمده و نمودار مستطیلی احتمال این داده‌ها رسم شده است. (مستطیلهای آبی)\t\n",
    " </font>\n",
    "</div>"
   ]
  },
  {
   "cell_type": "code",
   "execution_count": 4,
   "metadata": {},
   "outputs": [
    {
     "name": "stdout",
     "output_type": "stream",
     "text": [
      "[0.02131227 0.02770595 0.03473139 0.04203695 0.04918324 0.05568812\n",
      " 0.0610829  0.06497    0.06707197 0.0672636  0.06558201 0.06221429\n",
      " 0.05746635 0.05171972 0.04538405 0.03885318 0.03247015 0.02650471\n",
      " 0.02114353 0.01649195 0.01258408]\n"
     ]
    },
    {
     "data": {
      "image/png": "[encoded data removed]",
      "text/plain": [
       "<Figure size 432x288 with 1 Axes>"
      ]
     },
     "metadata": {
      "needs_background": "light"
     },
     "output_type": "display_data"
    }
   ],
   "source": [
    "def plot_hist_pois(Ks, Lambda):\n",
    "    bins = (max(Ks) - min(Ks)) // 2\n",
    "    rng = list(iter(range(min(Ks) - 1, max(Ks) + 2)))\n",
    "    probs = poisson.pmf(rng, Lambda)\n",
    "    plt.clf\n",
    "    plt.hist(x=Ks, bins=bins, color=color_set[0], alpha=0.4)\n",
    "    plt.scatter(rng, probs, color=color_set[1])\n",
    "    print(probs)\n",
    "    plt.xlabel('K')\n",
    "    plt.ylabel('P(X=k)')\n",
    "\n",
    "ks = [cars[cars['minute'] == i].shape[0] for i in range(10)]\n",
    "Lambda = 35.1\n",
    "plot_hist_pois(ks, Lambda)\n",
    "\n",
    "# Function for plotting histogram of data and Poisson density\n",
    "#plot_hist_pois <- function(Ks, lambda) {\n",
    "#bins <- (max(Ks) - min(Ks)) / 2\n",
    "#rng <- c((min(Ks) - 1): (max(Ks) + 1))\n",
    "#probs <- dpois(x=rng, lambda = lambda)\n",
    "#hist(Ks, bins, probability = T, ylab = \"P(X=k)\", xlab = \"k\", col = color_set[1], main = \"\")\n",
    "#points(rng, probs, col = color_set[2], pch=19)\n",
    "#legend(\"topright\", legend=c(\"Observed data\", \"Poisson dist\"), lty = c(1, NA), \n",
    "#       pch = c(NA, 19), col = color_set)\n",
    "#}\n",
    "# Number of passing cars per minute\n",
    "#Ks <- sapply(c(0:9), function(x) sum(cars$minute==x))\n",
    "#lambda <- 35.1\n",
    "#plot_hist_pois(Ks, lambda)"
   ]
  },
  {
   "cell_type": "markdown",
   "metadata": {},
   "source": [
    "<div id=\"simple_sample_question\" style=\"direction:rtl;line-height:300%;\">\n",
    "\t<font face=\"XB Zar\" size=5>\n",
    "        <ul style=\"margin-right: 0;\">\n",
    "               میلاد به این فکر می‌کند که تا به حال تمام مدلش را در زمان یک دقیقه در نظر گرفته بود. در واقع در  فرایند رسیدن به توزیع پوآسون واحد زمان یک دقیقه بود. اما میلاد حوصله دوباره حساب کردن مقدار $\\lambda$ را برای مقادیر مختلف زمان (مثلا در 30 ثانیه) ندارد و می‌خواهد از همین عدد به دست آمده در یک دقیقه ($\\lambda=35.1$) استفاده کند. با توجه به اینکه $\\lambda$ میانگین تعداد ماشین‌ها در این زمان است به نظرش میرسد که برای 30 ثانیه احتمالا این میانگین نصف شود. (سعی کنید این نتیجه‌گیری را صرفا با استفاده از فرایند اثبات توزیع پوآسون هم ثابت کنید)\n",
    "            <br>\n",
    "            در زیر با استفاده از داده‌های میلاد تعداد ماشین‌های گذرنده در بازه‌های 30 ثانیه محاسبه و نمودار بالا  یکبار برای مقدار $\\lambda=35.1$ و یکبار برای $\\lambda=\\frac{35.1}{2}$ رسم شده است. \n",
    "        </ul>\n",
    "\t</font>\n",
    "</div>"
   ]
  },
  {
   "cell_type": "code",
   "execution_count": 5,
   "metadata": {},
   "outputs": [
    {
     "name": "stdout",
     "output_type": "stream",
     "text": [
      "[3.25986859e-08 1.27134875e-07 4.46243411e-07 1.42392216e-06\n",
      " 4.16497231e-06 1.12454252e-05 2.81938876e-05 6.59736969e-05\n",
      " 1.44729798e-04 2.98824465e-04 5.82707706e-04 1.07647581e-03\n",
      " 1.88921505e-03 3.15768802e-03 5.03794770e-03 7.68834628e-03\n",
      " 1.12442064e-02 1.57868658e-02 2.13122689e-02 2.77059495e-02\n",
      " 3.47313867e-02 4.20369543e-02 4.91832365e-02]\n",
      "[23, 9, 21, 16, 13, 20, 17, 20, 16, 17, 13, 18, 21, 13, 14, 17, 17, 18, 29, 19]\n"
     ]
    },
    {
     "data": {
      "image/png": "[encoded data removed]",
      "text/plain": [
       "<Figure size 432x288 with 1 Axes>"
      ]
     },
     "metadata": {
      "needs_background": "light"
     },
     "output_type": "display_data"
    }
   ],
   "source": [
    "new_Ks = [cars[((cars['minute'] == i) & (cars[' second'] < 30))].shape[0] for i in range(10)]\n",
    "new_Ks += [cars[((cars['minute'] == i) & (cars[' second'] >= 30))].shape[0] for i in range(10)]\n",
    "\n",
    "plot_hist_pois(new_Ks, Lambda)\n",
    "print(new_Ks)\n",
    "    \n",
    "# Number of passing cars per 30 seconds\n",
    "#new_Ks <- unlist(sapply(c(0:9), function(x) list(sum(cars$minute==x & cars$second < 30), \n",
    "#                                sum(cars$minute==x & cars$second >= 30))))\n",
    "#plot_hist_pois(new_Ks, lambda)\n",
    "#plot_hist_pois(new_Ks, lambda / 2)"
   ]
  },
  {
   "cell_type": "code",
   "execution_count": null,
   "metadata": {},
   "outputs": [],
   "source": [
    "plot_hist_pois(new_Ks, Lambda/2)\n"
   ]
  },
  {
   "cell_type": "markdown",
   "metadata": {},
   "source": [
    "<p></p>\n",
    "<br />\n",
    "<div id=\"sec_pois_eg\" style=\"direction:rtl;line-height:300%;\">\n",
    "\t<font face=\"XB Zar\" size=5>\n",
    "\t\t<font color=#FF7500 size=6>\n",
    "            مثال توزیع پوآسون\n",
    "        </font>\n",
    "\t\t<p></p>\n",
    "\t\t<hr>\n",
    "        فرض کنید $X$ نشان‌دهنده تعداد غلطهای املایی در یک صفحه چاپی با میانگین 5 غلط باشد. احتمال این‌که در سه صفحه چاپی تصادفی مجموعا بیش از 10 غلط املایی وجود داشته باشد چقدر است؟\n",
    "        <br>\n",
    "        <br>\n",
    "        اولا در نظر بگیرید که $X$ می‌تواند از توزیع پوآسون پیروی کند(تعداد رخدادها(غلط املایی) در یک بازه مکانی(صفحه چاپی). سعی کنید سه فرض فرایند تقریبی پوآسون را با این مساله چک کنید)\n",
    "        <br>\n",
    "        اما $X$ نشان‌دهنده تعداد غلط‌های املایی در یک صفحه است و نه سه صفحه. متغیر تصادفی $Y$ را تعداد غلطهای املایی در سه صفحه تصادفی تعریف می‌کنیم. با توجه به قسمت قبل می‌دانیم $Y$ از یک توزیع پوآسون می‌آید طوری که:<br>\n",
    "        <center>\n",
    "            $\\lambda_{Y} = 3\\lambda{x} = 3 \\times 5 = 15$\n",
    "        </center> \n",
    "        <br>\n",
    "         <center>\n",
    "            $P(Y>10) = 1 - P(Y\\leq10) = 1 - \\sum_{k=0}^{10} P(Y=k) =  1 - \\sum_{k=0}^{10} e^{-15}\\frac{15^k}{k!}$\n",
    "        </center> \n",
    "        <br>\n",
    "        در زبان python با تکه کد زیر می‌توان حاصل این احتمال را حساب کرد.\n",
    "\t</font>\n",
    "</div>"
   ]
  },
  {
   "cell_type": "code",
   "execution_count": null,
   "metadata": {},
   "outputs": [],
   "source": [
    "# using poisson dist function\n",
    "#1 - ppois(10, lambda=15, lower.tail = T)\n",
    "from scipy.stats import poisson\n",
    "1 - poisson.cdf(10, 15, loc = 0)"
   ]
  },
  {
   "cell_type": "code",
   "execution_count": null,
   "metadata": {},
   "outputs": [],
   "source": [
    "#pois_prob <- function(k, lambda) {return(exp(-lambda) * (lambda**k) / factorial(k) )}\n",
    "#1 - sum(sapply(c(0:10), function(x) pois_prob(x, lambda = 15)))\n",
    "import math\n",
    "1 - sum([math.exp(-15) * (15 ** x) / math.factorial(x) for x in range(0, 11)])\n"
   ]
  },
  {
   "cell_type": "markdown",
   "metadata": {},
   "source": [
    "<p></p>\n",
    "<br />\n",
    "<div id=\"sec_pois_eg\" style=\"direction:rtl;line-height:300%;\">\n",
    "\t<font face=\"XB Zar\" size=5>\n",
    "\t\t<font color=#FF7500 size=6>\n",
    "            تمرین توزیع پوآسون\n",
    "        </font>\n",
    "\t\t<p></p>\n",
    "\t\t<hr>\n",
    "        <ul>\n",
    "            <li>\n",
    "            به نظر شما چرا با افزایش مقدار $\\lambda$ توزیع متقارن‌تر نمایش داده می‌شود؟ به طور کلی آیا توزیع پوآسون می‌تواند یک توزیع متقارن باشد؟\n",
    "            </li>\n",
    "            <li>\n",
    "        ثابت کنید فرمول به دست‌آمده برای توزیع پوآسون ویژگی‌های یک p.m.f را دارد( مثبت بودن و جمع برابر یک).\n",
    "            </li>\n",
    "        </ul>\n",
    "            <br>\n",
    "\t</font>\n",
    "</div>"
   ]
  },
  {
   "cell_type": "markdown",
   "metadata": {},
   "source": [
    "<p></p>\n",
    "<br />\n",
    "<div id=\"sec_geo\" style=\"direction:rtl;line-height:300%;\">\n",
    "\t<font face=\"XB Zar\" size=5>\n",
    "\t\t<font color=#FF7500 size=6>\n",
    "توزیع هندسی\n",
    "        </font>\n",
    "\t\t<p></p>\n",
    "\t\t<hr>\n",
    "        در نظریه احتمال واژه \"توزیع هندسی\" به بررسی مسئله‌ای با شرایط محیطی زیر می‌پردازد:\n",
    "        <ul style=\"margin-right: 0;\">\n",
    "            <li>\n",
    "                یک کار به صورت پشت‌سرهم تکرار می‌شود به صورتی که نتیجه هر بار انجام آن‌کار کاملا مستقل از دفعات قبل است که این کار می‌تواند پرتاب مکرر یک سکه و یا اجرای تست‌های گوناگون بر روی یک سیستم و اعمالی نظیر این دو باشد.همان طور که احتمالا مشخص است در هر دو مثال مطرح شده خروجی هر بار پرتاب سکه و خروجی هر بار اجرای یک تست گوناگون بر روی یک سیستم کاملا مستقل از پرتاب‌ها و تست‌های قبل است.\n",
    "            </li>\n",
    "            <li>\n",
    "                خروجی‌های کار انجام‌شده هر چیز که باشد بتوان آن را در یکی از گروه‌های \"موفقیت\" و \"شکست\" قرار داد. برای نمونه در دو مثال سکه \"آمدن شیر\" را \"موفقیت\" و \"آمدن خط\" را \"شکست\" در نظر بگیریم یا در مثال تست سیستم \"اجرای کامل تست\" را \"موفقیت\" و \"عدم اجرای کامل تست\" را \"شکست\" در نظر بگیریم. مهم نیست که چند نوع خروجی در گروه موفقیت و یا شکست قرار می‌گیرد بلکه توانایی در دسته‌بندی خروجی‌ها به این شکل مد نظر است. بنابراین منظور از استقلال در بالا این است که احتمال موفقیت و شکست در هر بار انجام کار برابر با احتمال موفقیت و شکست در دفعات قبل باشد.\n",
    "            </li>\n",
    "        </ul>\n",
    "        نکته مهمی که احتمالا تاکنون متوجه شدید این است که در بررسی \"توزیع گسسته هندسی\" به جزئیات خروجی‌های یک کار پرداخته نمی‌شود و تنها موفقیت و یا شکست آن مد نظر است. برای مثال در پرتاب یک تاس ممکن است ۶ خروجی متفاوت حاصل شود، حال فرض کنید با مسئله زیر روبرو می‌شویم:\n",
    "        یک تاس را دو بار می‌اندازیم، به چه احتمالی هر دو بار ۶ ظاهر می‌شود؟\n",
    "        طبق سوالی که در این مسئله مطرح شده است، ظاهر شدن ۶ به منزله‌ی موفقیت و ظاهر شدن هر عددی غیر از ۶ به منرله‌ای شکست تلقی می‌شود و از آن‌جا که هر بار پرتاب تاس مستقل از دفعات قبل است بنابراین مسئله ذکر شده در شرایط محیطی توزیع هندسی صدق می‌کند.\n",
    "     </font>\n",
    "</div>\n",
    "\n"
   ]
  },
  {
   "cell_type": "markdown",
   "metadata": {},
   "source": [
    "<p></p>\n",
    "<br />\n",
    "<div id=\"sec_def_geometric\" style=\"direction:rtl;line-height:300%;\">\n",
    "\t<font face=\"XB Zar\" size=5>\n",
    "\t\t<font color=#FF7500 size=6>\n",
    "تعریف دقیق\n",
    "        </font>\n",
    "\t\t<p></p>\n",
    "\t\t<hr>\n",
    "        معمولا توزیع هندسی به یکی از دو شکل زیر مطرح می‌شود:\n",
    "        <ul style=\"margin-right: 0;\">\n",
    "            <li>\n",
    "                توزیع احتمالاتی تعداد \n",
    "                $X$\n",
    "                آزمایش‌های برنولی برای دستیابی به یک موفقیت مورد نیاز. فرض کنید احتمال موفقیت\n",
    "                $p$\n",
    "                و در نتیجه احتمال شکست \n",
    "                $(1-p)$\n",
    "                می‌باشد و در این حالت ما \n",
    "                $(K-1)$\n",
    "                شکست و یک موفقیت نیاز داریم بنابراین احتمال مورد نظر ما برابر است با:\n",
    "                <br>\n",
    "                $$Pr(X=k) = (1-p)^{k-1}p$$\n",
    "            </li>\n",
    "        </ul>\n",
    "\t</font>\n",
    "</div>"
   ]
  },
  {
   "cell_type": "markdown",
   "metadata": {},
   "source": [
    "<p></p>\n",
    "<br />\n",
    "<div id=\"sec_def\" style=\"direction:rtl;line-height:300%;\">\n",
    "\t<font face=\"XB Zar\" size=5>\n",
    "        <ul style=\"margin-right: 0;\">\n",
    "            <li>\n",
    "                احتمال وقوع \n",
    "                $K$\n",
    "                شکست قبل از وقوع اولین موفقیت. در این حالت ما به \n",
    "                $K$\n",
    "                شکست و سپس یک موفقیت نیاز داریم  بنابراین احتمال مورد نظر برابر است با:\n",
    "                <br>\n",
    "                $$P(Y=k) = (1-p)^{k}p$$\n",
    "            </li>\n",
    "        </ul>\n",
    "\t</font>\n",
    "</div>"
   ]
  },
  {
   "cell_type": "markdown",
   "metadata": {},
   "source": [
    "<p></p>\n",
    "<br />\n",
    "<div id=\"sec_def_geometric\" style=\"direction:rtl;line-height:300%;\">\n",
    "\t<font face=\"XB Zar\" size=5>\n",
    "\t\t<font color=#FF7500 size=6>\n",
    "        امیدریاضی و واریانس توزیع هندسی\n",
    "        </font>\n",
    "\t\t<p></p>\n",
    "        <ul>\n",
    "            <li>\n",
    "                امیدریاضی:\n",
    "                <br>\n",
    "                \\begin{align*}E(X)&=\\sum_{k=1}^{\\infty}kp(1-p)^{k-1} \\\\ &=p\\sum_{k=1}^{\\infty}k(1-p)^{k-1} \\\\ &=p\\left(-\\frac{d}{dp}\\sum_{k=1}^{\\infty}(1-p)^k\\right) \\\\ &=p\\left(-\\frac{d}{dp}\\frac{1-p}{p}\\right) \\\\ &=p\\left(\\frac{d}{dp}\\left(1-\\frac{1}{p}\\right)\\right)=p\\left(\\frac{1}{p^2}\\right)=\\frac1p\\end{align*}\n",
    "            </li>\n",
    "            <li>\n",
    "                واریانس:\n",
    "                <br>\n",
    "                به عنوان تمرین ثابت کنید که:\n",
    "                <br>\n",
    "                $$var[x] = \\frac{1 - p}{p^{2}}$$\n",
    "            </li>\n",
    "        </ul>\n",
    "    </font>\n",
    "</div>"
   ]
  },
  {
   "cell_type": "markdown",
   "metadata": {},
   "source": [
    "<p></p>\n",
    "<br />\n",
    "<div id=\"sec_geo_eg\" style=\"direction:rtl;line-height:300%;\">\n",
    "\t<font face=\"XB Zar\" size=5>\n",
    "\t\t<font color=#FF7500 size=6>\n",
    "            مثال توزیع هندسی\n",
    "        </font>\n",
    "\t\t<p></p>\n",
    "\t\t<hr>\n",
    "         مهران، دانشجوی دانشکده کامپیوتر می‌خواهد بداند چرا و به چه دلیل فضای سایت دانشکده را نصف کرده‌اند. او تصمیم می‌گیرد از شورای صنفی دانشکده این سوال را بپرسد. به اتاق شورا مراجعه می‌کند اما همه افراد آن‌جا مدعی می‌شوند که آن‌ها اعضای انجمن علمی هستند و اصلا نمی‌دانند شورا چیست. حال مهران تصمیم می‌گیرد در لابی دانشکده به صورت تصادفی از افراد بپرسد که آیا آن‌ها عضو شورا هستند یا خیر تا بتواند سوالش را بپرسد.فرض کنید احتمال موفقیت او در یافتن چنین شخصی 0.2 باشد و بگذارید X تعداد افرادی که او از آن‌ها سوال می‌پرسد تا اولین عضو شورا را پیدا کند، را بیان کند.احتمال اینکه مهران چهار نفر را قبل از پیدا کردن عضوی از شورا مورد سوال قرار دهد چقدر است؟\n",
    "       <br>\n",
    "       <br>\n",
    "        $$P(X=4) =(0.8)^3 (0.2)=0.1024 $$  \n",
    "</div>"
   ]
  },
  {
   "cell_type": "markdown",
   "metadata": {},
   "source": [
    "<p></p>\n",
    "<br />\n",
    "<div id=\"sec_geo_eg\" style=\"direction:rtl;line-height:300%;\">\n",
    "\t<font face=\"XB Zar\" size=5>\n",
    "\t\t<font color=#FF7500 size=6>\n",
    "            تمرین توزیع هندسی\n",
    "        </font>\n",
    "\t\t<p></p>\n",
    "\t\t<hr>\n",
    "        <ul>\n",
    "            <li>\n",
    "                احتمال اینکه مهران بیشتر از 6 نفر را قبل از پیدا کردن عضوی از شورا مورد پرسش قرار دهد چقدر است ؟\n",
    "            </li>\n",
    "            <li>\n",
    "                فرض کنید می‌دانیم مهران بیش از n نفر را مورد سوال قرار داده است. احتمال اینکه اون از بیش از n+m نفر سوال بپرسد تا به عضوی از شورا برسد را محاسبه کنید.\n",
    "                <br>\n",
    "                    راهنمایی: باید احتمال $P(X > n+m | X > n) $ را محاسبه کنید.\n",
    "                <br>\n",
    "                    - احتمال بدست آمده تابع کدام متغییر هاست؟ \n",
    "                <br>\n",
    "                    - آیا می‌توان گفت که توزیع هندسی حافظه ندارد؟\n",
    "            </li>\n",
    "        </ul>\n",
    "    </font>\n",
    "</div>"
   ]
  },
  {
   "cell_type": "markdown",
   "metadata": {},
   "source": [
    "<p></p>\n",
    "<br />\n",
    "<div id=\"sec_hypergeo\" style=\"direction:rtl;line-height:300%;\">\n",
    "\t<font face=\"XB Zar\" size=5>\n",
    "\t\t<font color=#FF7500 size=6>\n",
    "آشنایی با توزیع‌های فوق هندسی\n",
    "        </font>\n",
    "\t\t<p></p>\n",
    "           فرض کنید ظرفی مانند شکل زیر دارید که در آن دو نوع توپ وجود دارد. به طوری که تعداد توپ های آبی $N_1$ و تعداد توپ های قرمز $N_2$ است.وN تعداد کل توپ هاست. حال متغیر تصادفی که حضور دقیقا x توپ قرمز را پس از n انتخاب بدون جاگذاری بیان میکند از نوع فوق هندسی می‌باشد. \n",
    "               <br>      \n",
    "        <img src=\"figure/hypergeo.PNG\" width=\"500\">\n",
    "         </font>\n",
    "</div>\n",
    "\n"
   ]
  },
  {
   "cell_type": "markdown",
   "metadata": {},
   "source": [
    "<p></p>\n",
    "<br />\n",
    "<div id=\"sec_hypergeo\" style=\"direction:ltl;line-height:300%;\">\n",
    "\t<font face=\"XB Zar\" size=5>\n",
    "\t\t<font color=#FF7500 size=6>\n",
    "        </font>\n",
    "               <br>       \n",
    "                 $ P(X=x) = \\frac{{N_1 \\choose x }{N_2 \\choose n-x}}{N \\choose n}$\n",
    "         </font>\n",
    "</div>\n"
   ]
  },
  {
   "cell_type": "markdown",
   "metadata": {},
   "source": [
    "<p></p>\n",
    "<br />\n",
    "<div id=\"sec_hypergeo\" style=\"direction:rtl;line-height:300%;\">\n",
    "\t<font face=\"XB Zar\" size=5  >\n",
    "        <font size=6 color='navy'> تفاوت با توزیع باینومیال </font>\n",
    "        <br>\n",
    "       همانطور که در بالا اشاره شد در توزیع فوق‌هندسی جایگذاری نداریم.\n",
    "        <br>\n",
    "        این توزیع برای جمعیت کم کاربرد دارد، جایی که عدم جایگذاری در احتمال های ترایال های بعدی موثر باشد.\n",
    "        <br>\n",
    "        اما در توزیع باینومیال جمعیت کل بی نهایت تصور می‌شود و این عدم جایگذاری تاثیری در احتمال ترایال بعدی نمی‌گذارد.\n",
    "              \n",
    "         \n",
    "</div>\n"
   ]
  },
  {
   "cell_type": "markdown",
   "metadata": {},
   "source": [
    "<div id=\"sec_theroy\" style=\"direction:rtl;line-height:300%;\">\n",
    "\t<font face=\"XB Zar\" size=5>\n",
    "\t\t<font color=#FF7500 size=6>\n",
    "            تمرین نظری\n",
    "        </font>\n",
    "\t\t<p></p>\n",
    "\t\t<hr>\n",
    "        <ul>\n",
    "            <li>\n",
    "                در یک حراجی، می‌خواهیم یک کالای نفیس خریداری کنیم. می‌دانیم \n",
    "                W\n",
    "                نفر دیگر مشتاق خریدن کالای مورد نظر هستند که \n",
    "                $W \\sim Pois(1)$.\n",
    "                می‌دانیم کالا به صورت تصادفی به یکی از خریدار‌ها تعلق می‌گیرد. احتمال این که کالا به ما برسد چقدر است؟\n",
    "            </li>\n",
    "            <li>\n",
    "                فرض کنید شخصی یک سکه دارد. فرض کنید او آنقدر سکه می‌اندازد که یک بار شیر بیاید و یک بار خط. تعداد بارهایی که سکه انداخته‌ایم را \n",
    "                $X$\n",
    "                می‌نامیم.\n",
    "                $E[X]$\n",
    "                چقدر است؟\n",
    "            </li>\n",
    "            <li>\n",
    "                توزیع فوق هندسی منفی یک توزیع است که ۳ پارامتر دارد.\n",
    "                N\n",
    "                نشانگر تعداد کل توپ هاست.\n",
    "                K\n",
    "                نشانگر توپ های سفید است و\n",
    "                R\n",
    "                نشانگر تعداد توپ های سیاهی که باید از کیسه خارج شود تا بازی تمام شود.\n",
    "                <br>\n",
    "                -\tاین توزیع با توزیع فوق هندسی چه شباهات و تفاوت‌هایی دارد؟\n",
    "                <br>\n",
    "                -\tنشان دهید که امیدریاضی این توزیع برابر\n",
    "                $\\frac{RK}{N-K+1}$\n",
    "                است.\n",
    "            </li>\n",
    "            <li>\n",
    "                \tفرض کنید در شرکتی کار می‌کنید که حقوق شما را به صورت روزانه می‌دهد. به این صورت که حقوق روز اول ۱ دلار، روز دوم ۲ دلار، روز سوم ۴ دلار و ... است. در واقع حقوق هر روز دو برابر حقوق روز پیش است. اما پرداخت این حقوق نجومی، شرطی دارد. رییس شما در آخر هر روز، یک سکه می‌اندازد. اگر شیر بیاید شما بلافاصله اخراج می‌شوید. در غیر این صورت حقوق آن روز شما را می‌پردازد و برای فردا نیز باید به سر کار بروید. \n",
    "                X\n",
    "                را تعداد روز هایی که شما کار می‌کنید می‌نامیم. \n",
    "                Y\n",
    "                را نیز برابر حقوق دریافتی شما می‌نامیم. \n",
    "                E[X]\n",
    "                و \n",
    "                E[Y]\n",
    "                را بدست آورید. آیا به نتیجه‌ی عجیبی رسیدید ؟ آیا ‌میتوانیم با استفاده از این دو مقدار، حقوق میانگین هر روز شما را هم بدست آوریم؟ به بیان دیگر آیا می‌توان گفت که \n",
    "                $E[\\frac{X}{Y}]=\\frac{E[X]}{E[Y]}$؟ \n",
    "            </li>\n",
    "            <li>\n",
    "                فرض کنید که \n",
    "                $X \\sim Geom(p)$\n",
    "                و \n",
    "                $t$\n",
    "                را نیز یک عدد ثابت بگیرید. \n",
    "                $E[e^{tX}]$\n",
    "                را به شکل تابعی از \n",
    "                $t$\n",
    "                و \n",
    "                $p$\n",
    "                بدست آورید.\n",
    "            </li>\n",
    "            <li>\n",
    "                فرض کنید که \n",
    "                $X \\sim Pois(\\lambda)$\n",
    "                . در این صورت \n",
    "                $E[X!]$\n",
    "                را محاسبه کنید. (اگر پاسخ متناهی بود)\n",
    "            </li>\n",
    "        </ul>\n",
    "    </font>\n",
    "</div>"
   ]
  },
  {
   "cell_type": "markdown",
   "metadata": {},
   "source": [
    "<div id=\"sec_code\" style=\"direction:rtl;line-height:300%;\">\n",
    "\t<font face=\"XB Zar\" size=5>\n",
    "\t\t<font color=#FF7500 size=6>\n",
    "            تمرین عملی\n",
    "        </font>\n",
    "\t\t<p></p>\n",
    "\t\t<hr>\n",
    "        فرض کنید در یک جمع \n",
    "        $n$\n",
    "        نفر حضور دارند. احتمال این که شما دقیقا تولدتان با یکی از این \n",
    "        $n$\n",
    "        نفر یکی باشد چقدر است ؟ این احتمال را هم با کمک توزیع دوجمله‌ای و هم به کمک توزیع پوآسون بدست آورید و مقایسه کنید.\n",
    "        </font>\n",
    "</div>"
   ]
  },
  {
   "cell_type": "markdown",
   "metadata": {},
   "source": [
    "<div id=\"sec_conc\" style=\"direction:rtl;line-height:300%;\">\n",
    "\t<font face=\"XB Zar\" size=5>\n",
    "        در ابتدا باید کتاب‌خانه‌ی \n",
    "        scipy\n",
    "        و\n",
    "        numpy\n",
    "        را فراخوانی کنیم.\n",
    "    </font>\n",
    "</div>"
   ]
  },
  {
   "cell_type": "code",
   "execution_count": null,
   "metadata": {},
   "outputs": [],
   "source": [
    "import scipy.stats as sp\n",
    "import numpy as np"
   ]
  },
  {
   "cell_type": "markdown",
   "metadata": {},
   "source": [
    "<div id=\"sec_conc\" style=\"direction:rtl;line-height:300%;\">\n",
    "\t<font face=\"XB Zar\" size=5>\n",
    "        سپس یک آرایه شامل ۱۰۰ عدد را از فایل \n",
    "        data.npz\n",
    "        می‌خوانیم.\n",
    "        برای دسترسی به آرایه کافی است فیلد \n",
    "        input_array\n",
    "        را صدا بزنیم.\n",
    "        هر عدد نشان‌دهنده‌ی یک \n",
    "        n\n",
    "        است. \n",
    "        اعداد مثبت و صحیح هستند.\n",
    "        سال را ۳۶۵ روز در نظر بگیرید.\n",
    "    </font>\n",
    "</div>"
   ]
  },
  {
   "cell_type": "code",
   "execution_count": null,
   "metadata": {},
   "outputs": [],
   "source": [
    "data = np.load('data.npz')"
   ]
  },
  {
   "cell_type": "markdown",
   "metadata": {},
   "source": [
    "<div id=\"sec_conc\" style=\"direction:rtl;line-height:300%;\">\n",
    "\t<font face=\"XB Zar\" size=5>\n",
    "          سپس شما باید یک آرایه‌ی شامل ۱۰۰ آرایه‌ی دوتایی که نشان‌دهنده‌ی احتمال‌ها بر حسب \n",
    "        n\n",
    "        ورودی است را در\n",
    "        probabilities\n",
    "        ذخیره کنید.\n",
    "        عدد اول هر آرایه‌ی دوتایی به کمک توزیع دوجمله‌ای بدست آمده است و عدد دوم هر جفت به کمک توزیع پوآسون بدست آمده است. \n",
    "    </font>\n",
    "</div>"
   ]
  },
  {
   "cell_type": "code",
   "execution_count": null,
   "metadata": {},
   "outputs": [],
   "source": [
    "probabilities = ?"
   ]
  },
  {
   "cell_type": "markdown",
   "metadata": {},
   "source": [
    "<div id=\"sec_conc\" style=\"direction:rtl;line-height:300%;\">\n",
    "\t<font face=\"XB Zar\" size=5>\n",
    "        دقت کنید که کد شما باید اجرا شود و در \n",
    "        probabilites\n",
    "        مقدار درست را ریخته باشید. پس از آن می‌توانید پاسخ خود را ارسال کنید.\n",
    "    </font>\n",
    "</div>"
   ]
  },
  {
   "cell_type": "markdown",
   "metadata": {},
   "source": [
    "<p></p>\n",
    "<br/>\n",
    "<div id=\"sec_refs\" style=\"direction:rtl;line-height:300%;\">\n",
    "\t<font face=\"XB Zar\" size=5>\n",
    "\t\t<font color=#FF7500 size=6>\n",
    "منابع\n",
    "        </font>\n",
    "\t\t<hr>       \n",
    "        <ul>\n",
    "            <li>\n",
    "                https://newonlinecourses.science.psu.edu/stat414\n",
    "            </li>\n",
    "            <li>\n",
    "                https://www.rdocumentation.org/\n",
    "            </li>\n",
    "        </ul>\n",
    "\t</font>\n",
    "</div>"
   ]
  },
  {
   "cell_type": "code",
   "execution_count": null,
   "metadata": {},
   "outputs": [],
   "source": []
  }
 ],
 "metadata": {
  "kernelspec": {
   "display_name": "Python 3",
   "language": "python",
   "name": "python3"
  },
  "language_info": {
   "codemirror_mode": {
    "name": "ipython",
    "version": 3
   },
   "file_extension": ".py",
   "mimetype": "text/x-python",
   "name": "python",
   "nbconvert_exporter": "python",
   "pygments_lexer": "ipython3",
   "version": "3.8.1"
  },
  "latex_envs": {
   "LaTeX_envs_menu_present": true,
   "autoclose": false,
   "autocomplete": true,
   "bibliofile": "biblio.bib",
   "cite_by": "apalike",
   "current_citInitial": 1,
   "eqLabelWithNumbers": true,
   "eqNumInitial": 1,
   "hotkeys": {
    "equation": "Ctrl-E",
    "itemize": "Ctrl-I"
   },
   "labels_anchors": false,
   "latex_user_defs": false,
   "report_style_numbering": false,
   "user_envs_cfg": false
  },
  "toc": {
   "base_numbering": 1,
   "nav_menu": {},
   "number_sections": true,
   "sideBar": true,
   "skip_h1_title": false,
   "title_cell": "Table of Contents",
   "title_sidebar": "Contents",
   "toc_cell": false,
   "toc_position": {},
   "toc_section_display": true,
   "toc_window_display": false
  },
  "varInspector": {
   "cols": {
    "lenName": 16,
    "lenType": 16,
    "lenVar": 40
   },
   "kernels_config": {
    "python": {
     "delete_cmd_postfix": "",
     "delete_cmd_prefix": "del ",
     "library": "var_list.py",
     "varRefreshCmd": "print(var_dic_list())"
    },
    "r": {
     "delete_cmd_postfix": ") ",
     "delete_cmd_prefix": "rm(",
     "library": "var_list.r",
     "varRefreshCmd": "cat(var_dic_list()) "
    }
   },
   "types_to_exclude": [
    "module",
    "function",
    "builtin_function_or_method",
    "instance",
    "_Feature"
   ],
   "window_display": false
  }
 },
 "nbformat": 4,
 "nbformat_minor": 4
}
